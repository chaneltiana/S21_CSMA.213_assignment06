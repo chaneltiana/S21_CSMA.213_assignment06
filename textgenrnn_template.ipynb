{
 "metadata": {
  "language_info": {
   "codemirror_mode": {
    "name": "ipython",
    "version": 3
   },
   "file_extension": ".py",
   "mimetype": "text/x-python",
   "name": "python",
   "nbconvert_exporter": "python",
   "pygments_lexer": "ipython3",
   "version": "3.8.8"
  },
  "orig_nbformat": 2,
  "kernelspec": {
   "name": "python3",
   "display_name": "Python 3.8.8 64-bit ('.venv': venv)",
   "metadata": {
    "interpreter": {
     "hash": "3b358fa915020fd6449ad75693b9d66aa584f437d3945222efa9ef9512ac8c59"
    }
   }
  }
 },
 "nbformat": 4,
 "nbformat_minor": 2,
 "cells": [
  {
   "cell_type": "code",
   "execution_count": null,
   "metadata": {},
   "outputs": [],
   "source": [
    "%tensorflow_version 1.x\n"
   ]
  },
  {
   "cell_type": "code",
   "execution_count": null,
   "metadata": {},
   "outputs": [],
   "source": [
    "!pip install -q textgenrnn\n",
    "from google.colab import files\n",
    "from textgenrnn import textgenrnn\n",
    "from datetime import datetime\n",
    "import os\n"
   ]
  },
  {
   "cell_type": "code",
   "execution_count": null,
   "metadata": {},
   "outputs": [],
   "source": [
    "# In the Colaboratory Notebook sidebar on the left of the screen, select Files. \n",
    "# Upload your text file and update the file name in the cell below, then run the cell.\n",
    "\n",
    "file_name = \"titles.txt\"\n",
    "model_name = 'colaboratory'   # change to set file name of resulting trained models/texts\n",
    "\n",
    "textgen = textgenrnn(name=model_name)\n",
    "textgen.train_from_file(file_name, num_epochs=10)\n"
   ]
  },
  {
   "cell_type": "code",
   "execution_count": null,
   "metadata": {},
   "outputs": [],
   "source": [
    "# test generating one sample\n",
    "textgen.generate()\n",
    "\n",
    "# (optional) save your trained model:\n",
    "# textgen.save('textgenrnn_titles.hdf5')\n"
   ]
  },
  {
   "cell_type": "code",
   "execution_count": null,
   "metadata": {},
   "outputs": [],
   "source": [
    "# (optional) load a pre-trained model:\n",
    "# textgen = textgenrnn('textgenrnn_titles.hdf5')\n",
    "\n",
    "# generate a list of 100 titles at 0.5 temperature:\n",
    "titlesList = textgen.generate(100, temperature=0.5, return_as_list=True)\n",
    "\n",
    "# print the generated titles:\n",
    "for title in titlesList:\n",
    "    print(title)\n"
   ]
  }
 ]
}